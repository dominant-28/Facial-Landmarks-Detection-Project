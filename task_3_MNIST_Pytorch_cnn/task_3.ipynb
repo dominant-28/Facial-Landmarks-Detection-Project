{
 "cells": [
  {
   "cell_type": "code",
   "execution_count": null,
   "metadata": {},
   "outputs": [],
   "source": [
    "#Import all the dependencies and loading the dataset\n",
    "import torch\n",
    "import torch.nn as nn\n",
    "import torch.nn.functional as f\n",
    "import torch.optim as optim\n",
    "from torchvision import datasets\n",
    "from torchvision.transforms import ToTensor\n",
    "from torch.utils.data import DataLoader\n",
    "trainingdata=datasets.MNIST(root=\"data\",train=True,download=True,transform=ToTensor())\n",
    "testdata=datasets.MNIST(root=\"data\",train=False,download=True,transform=ToTensor())"
   ]
  },
  {
   "cell_type": "code",
   "execution_count": 2,
   "metadata": {},
   "outputs": [],
   "source": [
    "#dataloader\n",
    "loader={\n",
    "    \"train\":DataLoader(trainingdata,batch_size=500,shuffle=True),\n",
    "    \"test\":DataLoader(testdata,batch_size=500,shuffle=True)\n",
    "}"
   ]
  },
  {
   "cell_type": "code",
   "execution_count": 3,
   "metadata": {},
   "outputs": [],
   "source": [
    "#network for model\n",
    "class CNN(nn.Module):\n",
    "  def __init__(self):\n",
    "    super(CNN,self).__init__()\n",
    "    self.conv1=nn.Conv2d(1,16,kernel_size=3,padding=1)\n",
    "    self.bn1=nn.BatchNorm2d(16)\n",
    "    self.conv2=nn.Conv2d(16,32,kernel_size=3,padding=1)\n",
    "    self.fc1=nn.Linear(32*7*7,128)\n",
    "    self.bn2=nn.BatchNorm1d(128)\n",
    "    self.drop=nn.Dropout(0.5)\n",
    "    self.fc2=nn.Linear(128,64)\n",
    "    self.fc3=nn.Linear(64,10)\n",
    "\n",
    "  def forward(self,x):\n",
    "    x=f.relu(f.max_pool2d(self.conv1(x),2))\n",
    "    x=self.bn1(x)\n",
    "    x=f.relu(f.max_pool2d(self.conv2(x),2))\n",
    "    x=x.view(-1,32*7*7)\n",
    "    x=f.relu(self.fc1(x))\n",
    "    x=self.bn2(x)\n",
    "    x=self.drop(x)\n",
    "    x=self.fc2(x)\n",
    "    x=self.fc3(x)\n",
    "    return x\n"
   ]
  },
  {
   "cell_type": "code",
   "execution_count": null,
   "metadata": {},
   "outputs": [],
   "source": [
    "device=torch.device(\"cuda\" if torch.cuda.is_available() else \"cpu\") #shifting model to gpu if present\n",
    "model=CNN().to(device)\n",
    "criterion=nn.CrossEntropyLoss()\n",
    "optimizer=optim.Adam(model.parameters(),lr=0.001)\n",
    "costs=[]\n",
    "acuracies=[]\n",
    "#Training Loop\n",
    "for epoch in range(50):\n",
    "  correct=0\n",
    "  total=0\n",
    "  model.train()  # Set the model to training mode\n",
    "  for batch,(data,target) in enumerate(loader[\"train\"]):\n",
    "    data,target=data.to(device),target.to(device)\n",
    "    optimizer.zero_grad()\n",
    "    output=model(data)\n",
    "    pred=output.argmax(dim=1,keepdim=True)  \n",
    "    total+=target.size(0)\n",
    "    correct+=pred.eq(target.view_as(pred)).sum().item() #calculating the accuracy\n",
    "    acuracies.append((correct/total)*100) \n",
    "    loss=criterion(output,target)\n",
    "    loss.backward()\n",
    "    optimizer.step()\n",
    "    costs.append(loss.cpu().detach().numpy())   # Move to CPU and convert to NumPy\n",
    "  \n",
    "  if epoch % 10 == 0:\n",
    "        print(f\"Epoch: {epoch}, Average Loss: {loss},accuracy:{(correct/total)*100}\")\n",
    "   "
   ]
  },
  {
   "cell_type": "code",
   "execution_count": null,
   "metadata": {},
   "outputs": [],
   "source": [
    "import matplotlib.pyplot as plt\n",
    "plt.plot(costs)\n",
    "plt.xlabel(\"iterations\")\n",
    "plt.ylabel(\"cost\")\n",
    "plt.title(\"cost vs iterations\")\n",
    "plt.show()\n",
    "\n",
    "plt.plot(acuracies)\n",
    "plt.xlabel(\"iterations\")\n",
    "plt.ylabel(\"acuracy\")\n",
    "plt.title(\"acuracy vs iterations\")\n",
    "plt.show()\n",
    "#function for the evaluating the model on the testset\n",
    "def test():\n",
    "  model.eval()\n",
    "  correct=0\n",
    "  with torch.no_grad():\n",
    "    for data,target in loader[\"test\"]:\n",
    "      data,target=data.to(device),target.to(device)\n",
    "      output=model(data)\n",
    "      pred=output.argmax(dim=1,keepdim=True)  \n",
    "      correct+=pred.eq(target.view_as(pred)).sum().item()\n",
    "  print(f\"accuracy on the testset:{(correct/len(loader['test'].dataset))*100}\")\n",
    "\n",
    "test()"
   ]
  }
 ],
 "metadata": {
  "kernelspec": {
   "display_name": "venv",
   "language": "python",
   "name": "python3"
  },
  "language_info": {
   "codemirror_mode": {
    "name": "ipython",
    "version": 3
   },
   "file_extension": ".py",
   "mimetype": "text/x-python",
   "name": "python",
   "nbconvert_exporter": "python",
   "pygments_lexer": "ipython3",
   "version": "3.12.4"
  }
 },
 "nbformat": 4,
 "nbformat_minor": 2
}
