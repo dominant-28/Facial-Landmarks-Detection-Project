{
 "cells": [
  {
   "cell_type": "code",
   "execution_count": 1,
   "metadata": {},
   "outputs": [],
   "source": [
    "#Import all the dependencies\n",
    "from torchvision import datasets\n",
    "from torchvision.transforms import ToTensor\n",
    "from torch import nn\n",
    "import torch\n",
    "import torchvision.transforms as t\n",
    "import torchvision\n",
    "import torch.optim as optim\n",
    "import torch.nn.functional as f\n",
    "import matplotlib.pyplot as plt\n",
    "import numpy as np"
   ]
  },
  {
   "cell_type": "code",
   "execution_count": null,
   "metadata": {},
   "outputs": [],
   "source": [
    "#Loading the MNIST dataset and tranforming into the tensor\n",
    "traindata=datasets.MNIST(root='data',transform=ToTensor(),train=True,download=True)\n",
    "testdata=datasets.MNIST(root='data',transform=ToTensor(),train=False,download=True)"
   ]
  },
  {
   "cell_type": "code",
   "execution_count": 3,
   "metadata": {},
   "outputs": [],
   "source": [
    "#Dataloader for creating the batches of the dataset\n",
    "trainloader=torch.utils.data.DataLoader(traindata,batch_size=1000,shuffle=True)\n",
    "testloader=torch.utils.data.DataLoader(testdata,batch_size=1000,shuffle=False)\n"
   ]
  },
  {
   "cell_type": "code",
   "execution_count": 4,
   "metadata": {},
   "outputs": [],
   "source": [
    "#Implementation of the neutral network,class of network\n",
    "class net(nn.Module):\n",
    "  def __init__(self):\n",
    "    super(net,self).__init__()\n",
    "    self.l1=nn.Linear(28*28,128)\n",
    "    self.dropout = nn.Dropout(p=0.5) #dropoutlayer\n",
    "    self.l2=nn.Linear(128,64)\n",
    "\n",
    "    self.l3=nn.Linear(64,10)\n",
    "\n",
    "  def forward(self,x):\n",
    "    x=x.view(-1,28*28) # Flatten the input\n",
    "    x=torch.relu(self.l1(x))\n",
    "    x=self.dropout(x)\n",
    "    x=torch.relu(self.l2(x))\n",
    "    x=self.l3(x)  #output layer\n",
    "    return x\n"
   ]
  },
  {
   "cell_type": "code",
   "execution_count": null,
   "metadata": {},
   "outputs": [],
   "source": [
    "#Initializing the network and the optimizer and defining the crossentropyloss\n",
    "network=net()\n",
    "criterion=nn.CrossEntropyLoss()\n",
    "optimizer=optim.Adam(network.parameters(),lr=0.001)\n",
    "costs=[]\n",
    "#Training loop\n",
    "for epoch in range(100):\n",
    "  network.train()  # Set the model to training mode\n",
    "  total_loss = 0.0\n",
    "  for x,y in trainloader:\n",
    "    optimizer.zero_grad()\n",
    "    output=network(x)\n",
    "    loss=criterion(output,y)\n",
    "    loss.backward()\n",
    "    optimizer.step()\n",
    "    total_loss += loss.item()  # Accumulate loss\n",
    "  avg_loss = total_loss / len(trainloader)\n",
    "  costs.append(avg_loss)\n",
    "  if(epoch%10==0):\n",
    "    print(f'cost value for {epoch} epoch : {loss}')"
   ]
  },
  {
   "cell_type": "code",
   "execution_count": null,
   "metadata": {},
   "outputs": [],
   "source": [
    "#Ploting the costs vs epochs\n",
    "plt.plot(costs)\n",
    "plt.show()\n",
    "\n",
    "\n",
    "total = 0\n",
    "correct = 0\n",
    "accuracies = []\n",
    "\n",
    "# Set the model to evaluation mode\n",
    "network.eval()\n",
    "\n",
    "with torch.no_grad():\n",
    "    for x, y in testloader:\n",
    "        output = network(x)  \n",
    "        _, predicted = torch.max(output, 1)\n",
    "        total += y.size(0)\n",
    "        correct += (predicted == y).sum().item()\n",
    "        \n",
    "        #calculating accuracy for this batch\n",
    "        batch_accuracy = 100 * (predicted == y).sum().item() / y.size(0)\n",
    "        accuracies.append(batch_accuracy)\n",
    "\n",
    "# Final accuracy on the entire test set\n",
    "accuracy = 100 * correct / total\n",
    "print(f'Accuracy on the test set: {accuracy:.2f}%')\n",
    "\n",
    "# Plotting accuracy over batches\n",
    "plt.plot(accuracies)\n",
    "plt.title(\"Accuracy Over Batches\")\n",
    "plt.xlabel(\"Batch Index\")\n",
    "plt.ylabel(\"Accuracy (%)\")\n",
    "plt.grid()\n",
    "plt.show()\n"
   ]
  }
 ],
 "metadata": {
  "kernelspec": {
   "display_name": "venv",
   "language": "python",
   "name": "python3"
  },
  "language_info": {
   "codemirror_mode": {
    "name": "ipython",
    "version": 3
   },
   "file_extension": ".py",
   "mimetype": "text/x-python",
   "name": "python",
   "nbconvert_exporter": "python",
   "pygments_lexer": "ipython3",
   "version": "3.12.4"
  }
 },
 "nbformat": 4,
 "nbformat_minor": 2
}
